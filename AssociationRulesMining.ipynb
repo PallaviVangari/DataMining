{
  "nbformat": 4,
  "nbformat_minor": 0,
  "metadata": {
    "colab": {
      "provenance": [],
      "authorship_tag": "ABX9TyMGnG5LPEJuqksmjcP6Z6TQ",
      "include_colab_link": true
    },
    "kernelspec": {
      "name": "python3",
      "display_name": "Python 3"
    },
    "language_info": {
      "name": "python"
    }
  },
  "cells": [
    {
      "cell_type": "markdown",
      "metadata": {
        "id": "view-in-github",
        "colab_type": "text"
      },
      "source": [
        "<a href=\"https://colab.research.google.com/github/PallaviVangari/DataMining/blob/main/AssociationRulesMining.ipynb\" target=\"_parent\"><img src=\"https://colab.research.google.com/assets/colab-badge.svg\" alt=\"Open In Colab\"/></a>"
      ]
    },
    {
      "cell_type": "code",
      "execution_count": 1,
      "metadata": {
        "id": "Lzyp0orOgegA"
      },
      "outputs": [],
      "source": [
        "import pandas as pd\n",
        "from mlxtend.frequent_patterns import apriori\n",
        "from mlxtend.frequent_patterns import association_rules"
      ]
    },
    {
      "cell_type": "code",
      "source": [
        "data = pd.read_csv('/content/retail_sales_dataset.csv')"
      ],
      "metadata": {
        "colab": {
          "base_uri": "https://localhost:8080/"
        },
        "id": "cSCswzj3hqg-",
        "outputId": "ab431b8c-db5b-482a-eba1-d9b2e33ae6c4"
      },
      "execution_count": 2,
      "outputs": [
        {
          "output_type": "stream",
          "name": "stderr",
          "text": [
            "/usr/local/lib/python3.10/dist-packages/ipykernel/ipkernel.py:283: DeprecationWarning: `should_run_async` will not call `transform_cell` automatically in the future. Please pass the result to `transformed_cell` argument and any exception that happen during thetransform in `preprocessing_exc_tuple` in IPython 7.17 and above.\n",
            "  and should_run_async(code)\n"
          ]
        }
      ]
    },
    {
      "cell_type": "code",
      "source": [
        "encoded_data = data['Product Category'].str.join('|').str.get_dummies()\n",
        "print(encoded_data)"
      ],
      "metadata": {
        "colab": {
          "base_uri": "https://localhost:8080/"
        },
        "id": "bmYSVX7XiUh0",
        "outputId": "94b7eb07-9ea5-4c98-e1fe-d99a3fa7bad8"
      },
      "execution_count": 3,
      "outputs": [
        {
          "output_type": "stream",
          "name": "stdout",
          "text": [
            "     B  C  E  a  c  e  g  h  i  l  n  o  r  s  t  u  y\n",
            "0    1  0  0  1  0  1  0  0  0  0  0  0  0  0  1  1  1\n",
            "1    0  1  0  0  0  0  1  1  1  1  1  1  0  0  1  0  0\n",
            "2    0  0  1  0  1  1  0  0  1  1  1  1  1  1  1  0  0\n",
            "3    0  1  0  0  0  0  1  1  1  1  1  1  0  0  1  0  0\n",
            "4    1  0  0  1  0  1  0  0  0  0  0  0  0  0  1  1  1\n",
            "..  .. .. .. .. .. .. .. .. .. .. .. .. .. .. .. .. ..\n",
            "995  0  1  0  0  0  0  1  1  1  1  1  1  0  0  1  0  0\n",
            "996  1  0  0  1  0  1  0  0  0  0  0  0  0  0  1  1  1\n",
            "997  1  0  0  1  0  1  0  0  0  0  0  0  0  0  1  1  1\n",
            "998  0  0  1  0  1  1  0  0  1  1  1  1  1  1  1  0  0\n",
            "999  0  0  1  0  1  1  0  0  1  1  1  1  1  1  1  0  0\n",
            "\n",
            "[1000 rows x 17 columns]\n"
          ]
        },
        {
          "output_type": "stream",
          "name": "stderr",
          "text": [
            "/usr/local/lib/python3.10/dist-packages/ipykernel/ipkernel.py:283: DeprecationWarning: `should_run_async` will not call `transform_cell` automatically in the future. Please pass the result to `transformed_cell` argument and any exception that happen during thetransform in `preprocessing_exc_tuple` in IPython 7.17 and above.\n",
            "  and should_run_async(code)\n"
          ]
        }
      ]
    },
    {
      "cell_type": "code",
      "source": [
        "# Find frequent itemsets using Apriori\n",
        "frequent_itemsets = apriori(encoded_data, min_support=0.2, use_colnames=True)\n",
        "print(frequent_itemsets)\n"
      ],
      "metadata": {
        "colab": {
          "base_uri": "https://localhost:8080/"
        },
        "id": "-4KhplcejB_Q",
        "outputId": "9c236664-18b4-46b2-f3d1-2dc491fe056d"
      },
      "execution_count": 4,
      "outputs": [
        {
          "output_type": "stream",
          "name": "stdout",
          "text": [
            "      support                        itemsets\n",
            "0       0.307                             (B)\n",
            "1       0.351                             (C)\n",
            "2       0.342                             (E)\n",
            "3       0.307                             (a)\n",
            "4       0.342                             (c)\n",
            "...       ...                             ...\n",
            "1302    0.342     (s, t, o, l, r, e, n, E, c)\n",
            "1303    0.342     (s, t, i, o, l, r, n, E, c)\n",
            "1304    0.342     (s, i, o, l, r, e, n, E, t)\n",
            "1305    0.342     (s, t, i, o, l, r, e, n, c)\n",
            "1306    0.342  (s, t, i, o, l, r, e, n, E, c)\n",
            "\n",
            "[1307 rows x 2 columns]\n"
          ]
        },
        {
          "output_type": "stream",
          "name": "stderr",
          "text": [
            "/usr/local/lib/python3.10/dist-packages/ipykernel/ipkernel.py:283: DeprecationWarning: `should_run_async` will not call `transform_cell` automatically in the future. Please pass the result to `transformed_cell` argument and any exception that happen during thetransform in `preprocessing_exc_tuple` in IPython 7.17 and above.\n",
            "  and should_run_async(code)\n",
            "/usr/local/lib/python3.10/dist-packages/mlxtend/frequent_patterns/fpcommon.py:110: DeprecationWarning: DataFrames with non-bool types result in worse computationalperformance and their support might be discontinued in the future.Please use a DataFrame with bool type\n",
            "  warnings.warn(\n"
          ]
        }
      ]
    },
    {
      "cell_type": "code",
      "source": [
        "\n",
        "rules = association_rules(frequent_itemsets, metric='lift', min_threshold=1.0)\n",
        "print(rules)\n"
      ],
      "metadata": {
        "colab": {
          "base_uri": "https://localhost:8080/"
        },
        "id": "--vaheuQjGte",
        "outputId": "3ea296b7-38cb-4df2-fbde-bb0e949016df"
      },
      "execution_count": 5,
      "outputs": [
        {
          "output_type": "stream",
          "name": "stderr",
          "text": [
            "/usr/local/lib/python3.10/dist-packages/ipykernel/ipkernel.py:283: DeprecationWarning: `should_run_async` will not call `transform_cell` automatically in the future. Please pass the result to `transformed_cell` argument and any exception that happen during thetransform in `preprocessing_exc_tuple` in IPython 7.17 and above.\n",
            "  and should_run_async(code)\n"
          ]
        },
        {
          "output_type": "stream",
          "name": "stdout",
          "text": [
            "      antecedents                  consequents  antecedent support  \\\n",
            "0             (a)                          (B)               0.307   \n",
            "1             (B)                          (a)               0.307   \n",
            "2             (e)                          (B)               0.649   \n",
            "3             (B)                          (e)               0.307   \n",
            "4             (t)                          (B)               1.000   \n",
            "...           ...                          ...                 ...   \n",
            "63377         (r)  (s, t, i, o, l, e, n, E, c)               0.342   \n",
            "63378         (e)  (s, t, i, o, l, r, n, E, c)               0.649   \n",
            "63379         (n)  (s, t, i, o, l, r, e, E, c)               0.693   \n",
            "63380         (E)  (s, t, i, o, l, r, e, n, c)               0.342   \n",
            "63381         (c)  (s, t, i, o, l, r, e, n, E)               0.342   \n",
            "\n",
            "       consequent support  support  confidence      lift  leverage  \\\n",
            "0                   0.307    0.307    1.000000  3.257329  0.212751   \n",
            "1                   0.307    0.307    1.000000  3.257329  0.212751   \n",
            "2                   0.307    0.307    0.473035  1.540832  0.107757   \n",
            "3                   0.649    0.307    1.000000  1.540832  0.107757   \n",
            "4                   0.307    0.307    0.307000  1.000000  0.000000   \n",
            "...                   ...      ...         ...       ...       ...   \n",
            "63377               0.342    0.342    1.000000  2.923977  0.225036   \n",
            "63378               0.342    0.342    0.526965  1.540832  0.120042   \n",
            "63379               0.342    0.342    0.493506  1.443001  0.104994   \n",
            "63380               0.342    0.342    1.000000  2.923977  0.225036   \n",
            "63381               0.342    0.342    1.000000  2.923977  0.225036   \n",
            "\n",
            "       conviction  zhangs_metric  \n",
            "0             inf       1.000000  \n",
            "1             inf       1.000000  \n",
            "2        1.315079       1.000000  \n",
            "3             inf       0.506494  \n",
            "4        1.000000       0.000000  \n",
            "...           ...            ...  \n",
            "63377         inf       1.000000  \n",
            "63378    1.391016       1.000000  \n",
            "63379    1.299128       1.000000  \n",
            "63380         inf       1.000000  \n",
            "63381         inf       1.000000  \n",
            "\n",
            "[63382 rows x 10 columns]\n"
          ]
        }
      ]
    }
  ]
}